{
 "cells": [
  {
   "cell_type": "code",
   "execution_count": null,
   "metadata": {
    "scrolled": true
   },
   "outputs": [],
   "source": [
    "import pandas as pd\n",
    "import json\n",
    "from pandas.io.json import json_normalize\n",
    "import os"
   ]
  },
  {
   "cell_type": "code",
   "execution_count": null,
   "metadata": {},
   "outputs": [],
   "source": [
    "# file_names = !ls ../tx *.json\n",
    "# file_names = list(file_names)\n",
    "# path_to_tx = '../tx/'\n",
    "path_to_tx = './tx_10_q/'"
   ]
  },
  {
   "cell_type": "code",
   "execution_count": null,
   "metadata": {},
   "outputs": [],
   "source": [
    "# file_names = [file_name for file_name in file_names if '.json' in file_name]\n",
    "# tx_files = [pos_json for pos_json in os.listdir(path_to_tx) if pos_json.endswith('.json')]\n",
    "tx_files = [pos_json for pos_json in os.listdir(path_to_tx) if pos_json.endswith('.json')]"
   ]
  },
  {
   "cell_type": "code",
   "execution_count": null,
   "metadata": {
    "scrolled": true
   },
   "outputs": [],
   "source": [
    "len(tx_files)"
   ]
  },
  {
   "cell_type": "code",
   "execution_count": null,
   "metadata": {
    "scrolled": true
   },
   "outputs": [],
   "source": [
    "datas = []\n",
    "count = 0\n",
    "# for file_name in file_names:\n",
    "#     with open('../tx/' + file_name) as f:\n",
    "#         datas.append(json.load(f))\n",
    "#     print(count)\n",
    "#     count += 1\n",
    "\n",
    "for tx in os.listdir(path_to_tx):\n",
    "    with open('./tx_10_q//' + tx) as f:\n",
    "        datas.append(json.load(f))\n",
    "    print(count)\n",
    "    count +=1"
   ]
  },
  {
   "cell_type": "code",
   "execution_count": null,
   "metadata": {
    "scrolled": true
   },
   "outputs": [],
   "source": [
    "# delete broken data in datas\n",
    "datas = [data for data in datas if data != False]"
   ]
  },
  {
   "cell_type": "code",
   "execution_count": null,
   "metadata": {},
   "outputs": [],
   "source": [
    "txs = pd.DataFrame.from_dict(json_normalize(datas), orient='columns')    "
   ]
  },
  {
   "cell_type": "code",
   "execution_count": null,
   "metadata": {
    "scrolled": true
   },
   "outputs": [],
   "source": [
    "# Testing session\n",
    "# type(txs.iloc[6725]['vin']['txid'])\n",
    "# print(SimplifyVout(txs.iloc[6725]))\n",
    "# SimplifyVout(txs.iloc[6725])"
   ]
  },
  {
   "cell_type": "code",
   "execution_count": null,
   "metadata": {},
   "outputs": [],
   "source": [
    "def SimplifyVin(tx):\n",
    "    SimpVin = []\n",
    "    for toward in tx['vin']:\n",
    "        if 'txid' in toward.keys():\n",
    "            txid = toward['txid']\n",
    "            vout = toward['vout']\n",
    "        else:\n",
    "            txid = 'n/a'\n",
    "            vout = -1\n",
    "        SimpVin.append({'txid':txid,'vout':int(vout)})\n",
    "    return SimpVin"
   ]
  },
  {
   "cell_type": "code",
   "execution_count": null,
   "metadata": {},
   "outputs": [],
   "source": [
    "def SimplifyVout(tx):\n",
    "    SimpVout = []\n",
    "    for out in tx['vout']:\n",
    "        \n",
    "        if 'addresses' in out['scriptPubKey'].keys():\n",
    "            value = out['value']\n",
    "            address = out['scriptPubKey']['addresses']\n",
    "#             print(out)\n",
    "        else:\n",
    "            value = -1\n",
    "            address = ['n/a']\n",
    "        SimpVout.append({'addresses':address,'value':float(value)})    \n",
    "    return SimpVout"
   ]
  },
  {
   "cell_type": "code",
   "execution_count": null,
   "metadata": {
    "scrolled": true
   },
   "outputs": [],
   "source": [
    "TxBucket = []\n",
    "\n",
    "for index, tx in txs.iterrows(): \n",
    "    \n",
    "#     extract information from Vin\n",
    "    SimpVin = SimplifyVin(tx)\n",
    "#     extract information from Vout\n",
    "    SimpVout = SimplifyVout(tx)\n",
    "#     extract time and txid\n",
    "    SimpTime = tx['time']\n",
    "    SimpTxId = tx['txid']\n",
    "    SimpTx = {'time':int(SimpTime), 'txid':SimpTxId,'vin':SimpVin, 'vout': SimpVout}\n",
    "    TxBucket.append(SimpTx)\n",
    "    \n",
    "    print(index)"
   ]
  },
  {
   "cell_type": "code",
   "execution_count": null,
   "metadata": {
    "scrolled": false
   },
   "outputs": [],
   "source": [
    "# import csv\n",
    "# with open('../DataCleaning/tx_13_output_Q.csv', 'w', newline='') as csvfile:\n",
    "#   writer = csv.writer(csvfile)\n",
    "\n",
    "#   # 寫入二維表格\n",
    "#   writer.writerows(data_to_write)"
   ]
  },
  {
   "cell_type": "code",
   "execution_count": null,
   "metadata": {
    "scrolled": true
   },
   "outputs": [],
   "source": [
    "# output dictionary as json file\n",
    "with open('./tx_N_output_.json', 'w') as fp:\n",
    "    json.dump({'transactions':TxBucket}, fp)"
   ]
  },
  {
   "cell_type": "code",
   "execution_count": null,
   "metadata": {},
   "outputs": [],
   "source": []
  }
 ],
 "metadata": {
  "kernelspec": {
   "display_name": "Python 3",
   "language": "python",
   "name": "python3"
  },
  "language_info": {
   "codemirror_mode": {
    "name": "ipython",
    "version": 3
   },
   "file_extension": ".py",
   "mimetype": "text/x-python",
   "name": "python",
   "nbconvert_exporter": "python",
   "pygments_lexer": "ipython3",
   "version": "3.7.1"
  }
 },
 "nbformat": 4,
 "nbformat_minor": 2
}

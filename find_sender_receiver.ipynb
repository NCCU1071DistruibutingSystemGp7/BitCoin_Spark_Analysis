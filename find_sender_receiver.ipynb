{
 "cells": [
  {
   "cell_type": "code",
   "execution_count": null,
   "metadata": {},
   "outputs": [],
   "source": [
    "import json\n",
    "import os\n",
    "import csv"
   ]
  },
  {
   "cell_type": "code",
   "execution_count": null,
   "metadata": {},
   "outputs": [],
   "source": [
    "path_to_file = '../DataCleaning_Q/'"
   ]
  },
  {
   "cell_type": "code",
   "execution_count": null,
   "metadata": {},
   "outputs": [],
   "source": [
    "with open(path_to_file + 'refined_merged') as f:\n",
    "    txs_bucket = json.load(f)"
   ]
  },
  {
   "cell_type": "code",
   "execution_count": null,
   "metadata": {},
   "outputs": [],
   "source": [
    "len(txs_bucket.keys())"
   ]
  },
  {
   "cell_type": "code",
   "execution_count": null,
   "metadata": {},
   "outputs": [],
   "source": [
    "def get_sender_address(sender_txid, n_vout):\n",
    "    #txs = txs_bucket['transactions']\n",
    "    #sender_address = next((tx['vout'][n_vout]['addresses'][0] for tx in txs if tx['txid'] == sender_txid), 'n/a')    \n",
    "    \n",
    "    #hash_fetch version\n",
    "    try:\n",
    "        sender_tx = txs_bucket[sender_txid]\n",
    "    except:\n",
    "        sender_tx = 'n/a'\n",
    "    \n",
    "    if sender_tx != 'n/a':\n",
    "        sender_address = sender_tx['vout'][n_vout]['addresses'][0]\n",
    "    else:\n",
    "        sender_address = 'n/a'\n",
    "    \n",
    "    return sender_address"
   ]
  },
  {
   "cell_type": "code",
   "execution_count": null,
   "metadata": {},
   "outputs": [],
   "source": [
    "data_to_write = []\n",
    "count = 1\n",
    "for txid, tx in txs_bucket.items():\n",
    "    print(count)\n",
    "    count += 1\n",
    "    \n",
    "    sender_addresses = []\n",
    "    for i_vin, vin in enumerate(tx['vin']):\n",
    "        sender_txid = vin['txid']\n",
    "        n_vout = vin['vout']\n",
    "        sender_addresses.append(get_sender_address(sender_txid, n_vout))\n",
    "    for i_vout, vout in enumerate(tx['vout']):\n",
    "        #print(i_tx, i_vout)\n",
    "        time = tx['time']\n",
    "        receiver_address = vout['addresses'][0]\n",
    "        value = vout['value']\n",
    "        \n",
    "        for i_address, sender_address in enumerate(sender_addresses):\n",
    "            data_to_write.append([sender_address, receiver_address, value, time])\n",
    "        '''\n",
    "        for i_vin, vin in enumerate(tx['vin']):\n",
    "            sender_txid = vin['txid']\n",
    "            n_vout = vin['vout']\n",
    "            #print(sender_txid + ' ' + str(n_vout))\n",
    "            sender_address = get_sender(sender_txid, n_vout)\n",
    "            data_to_write.append([sender_address, receiver_address, value, time])\n",
    "        '''"
   ]
  },
  {
   "cell_type": "code",
   "execution_count": null,
   "metadata": {},
   "outputs": [],
   "source": [
    "data_to_write"
   ]
  },
  {
   "cell_type": "code",
   "execution_count": null,
   "metadata": {},
   "outputs": [],
   "source": [
    "with open(path_to_file + 'output.csv', 'w', newline='') as csvfile:\n",
    "    writer = csv.writer(csvfile)\n",
    "    writer.writerows(data_to_write)"
   ]
  }
 ],
 "metadata": {
  "kernelspec": {
   "display_name": "Python 3",
   "language": "python",
   "name": "python3"
  },
  "language_info": {
   "codemirror_mode": {
    "name": "ipython",
    "version": 3
   },
   "file_extension": ".py",
   "mimetype": "text/x-python",
   "name": "python",
   "nbconvert_exporter": "python",
   "pygments_lexer": "ipython3",
   "version": "3.6.4"
  }
 },
 "nbformat": 4,
 "nbformat_minor": 2
}
